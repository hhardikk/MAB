{
 "cells": [
  {
   "cell_type": "code",
   "execution_count": 4,
   "metadata": {},
   "outputs": [],
   "source": [
    "import numpy as np\n",
    "import time\n",
    "import math"
   ]
  },
  {
   "cell_type": "code",
   "execution_count": 5,
   "metadata": {},
   "outputs": [],
   "source": [
    "class Agent:\n",
    "    def __init__(self):\n",
    "        self.i = 0\n",
    "        self.last_action = 0\n",
    "\n",
    "        self.t = np.zeros(6, dtype=np.float32)\n",
    "        self.arm_wickets = np.zeros(6, dtype=np.float32) + 1e-8\n",
    "        self.reward = np.zeros(6, dtype=np.float32)\n",
    "\n",
    "        self.ucb_arms = np.zeros(6, dtype=np.float32)\n",
    "\n",
    "    def calculate_ucb(self):\n",
    "        for action in range(6):\n",
    "            mean = self.reward[action] / (\n",
    "                self.t[action] * self.arm_wickets[action]\n",
    "            )\n",
    "            term = (\n",
    "                2\n",
    "                * np.log(1 + self.i * (np.log(self.i) ** 2))\n",
    "                / self.t[action]\n",
    "            )\n",
    "            self.ucb_arms[action] = mean + math.sqrt(term)\n",
    "\n",
    "    def get_action(self, wicket, runs_scored):\n",
    "\n",
    "        if self.i == 0:\n",
    "            action = 0\n",
    "            \n",
    "        else:\n",
    "\n",
    "            self.t[self.last_action] += 1\n",
    "            self.arm_wickets[self.last_action] += wicket\n",
    "            self.reward[self.last_action] += runs_scored\n",
    "\n",
    "            if self.i < 6:\n",
    "                action = self.i\n",
    "            else:\n",
    "                self.calculate_ucb()\n",
    "                action = np.argmax(self.ucb_arms)\n",
    "\n",
    "        self.last_action = action\n",
    "        self.i += 1\n",
    "        return action"
   ]
  },
  {
   "cell_type": "code",
   "execution_count": 6,
   "metadata": {},
   "outputs": [],
   "source": [
    "class Environment:\n",
    "  def __init__(self,num_balls,agent):\n",
    "    self.num_balls = num_balls\n",
    "    self.agent = agent\n",
    "    self.__run_time = 0\n",
    "    self.__total_runs = 0\n",
    "    self.__total_wickets = 0\n",
    "    self.__runs_scored = 0\n",
    "    self.__start_time = 0\n",
    "    self.__end_time = 0\n",
    "    self.__regret_w = 0\n",
    "    self.__regret_s = 0\n",
    "    self.__wicket = 0\n",
    "    self.__regret_rho = 0\n",
    "    self.__p_out = np.array([0.001,0.01,0.02,0.03,0.1,0.3])\n",
    "    self.__p_run = np.array([1,0.9,0.85,0.8,0.75,0.7])\n",
    "    self.__action_runs_map = np.array([0,1,2,3,4,6])\n",
    "    self.__s = (1-self.__p_out)*self.__p_run*self.__action_runs_map\n",
    "    self.__rho = self.__s/self.__p_out\n",
    "\n",
    "\n",
    "  def __get_action(self):\n",
    "    self.__start_time      = time. time()\n",
    "    action          = self.agent.get_action(self.__wicket,self.__runs_scored)\n",
    "    self.__end_time        = time. time()\n",
    "    self.__run_time   = self.__run_time + self.__end_time - self.__start_time\n",
    "    return action\n",
    "\n",
    "\n",
    "  def __get_outcome(self, action):\n",
    "    pout = self.__p_out[action]\n",
    "    prun= self.__p_run[action]\n",
    "    wicket = np.random.choice(2,1,p=[1-pout,pout])[0]\n",
    "    runs = 0\n",
    "    if(wicket==0):\n",
    "      runs = self.__action_runs_map[action]*np.random.choice(2,1,p=[1-prun,prun])[0]\n",
    "    return wicket, runs\n",
    "\n",
    "\n",
    "  def innings(self):\n",
    "    self.__total_runs = 0\n",
    "    self.__total_wickets = 0\n",
    "    self.__runs_scored = 0\n",
    "\n",
    "    for ball in range(self.num_balls):\n",
    "      action = self.__get_action()\n",
    "      self.__wicket, self.__runs_scored   = self.__get_outcome(action)\n",
    "      self.__total_runs     = self.__total_runs + self.__runs_scored\n",
    "      self.__total_wickets  = self.__total_wickets + self.__wicket\n",
    "      self.__regret_w       = self.__regret_w+ (self.__p_out[action]-np.min(self.__p_out))\n",
    "      self.__regret_s       = self.__regret_s+ (np.max(self.__s) - self.__s[action])\n",
    "      self.__regret_rho       = self.__regret_rho+ (np.max(self.__rho)-self.__rho[action])\n",
    "    return self.__regret_w,self.__regret_s,self.__regret_rho, self.__total_runs, self.__total_wickets, self.__run_time\n"
   ]
  },
  {
   "cell_type": "code",
   "execution_count": 45,
   "metadata": {},
   "outputs": [
    {
     "name": "stdout",
     "output_type": "stream",
     "text": [
      "6.342000000000004 74.83799999999994 3640.199999999999 222 6 0.006799936294555664\n"
     ]
    }
   ],
   "source": [
    "agent = Agent()\n",
    "environment = Environment(100, agent)\n",
    "regret_w, regret_s, reger_rho, total_runs, total_wickets, run_time = (\n",
    "    environment.innings()\n",
    ")\n",
    "\n",
    "print(regret_w, regret_s, reger_rho, total_runs, total_wickets, run_time)"
   ]
  },
  {
   "cell_type": "code",
   "execution_count": null,
   "metadata": {},
   "outputs": [],
   "source": []
  }
 ],
 "metadata": {
  "kernelspec": {
   "display_name": "Python 3 (ipykernel)",
   "language": "python",
   "name": "python3"
  },
  "language_info": {
   "codemirror_mode": {
    "name": "ipython",
    "version": 3
   },
   "file_extension": ".py",
   "mimetype": "text/x-python",
   "name": "python",
   "nbconvert_exporter": "python",
   "pygments_lexer": "ipython3",
   "version": "3.10.9"
  }
 },
 "nbformat": 4,
 "nbformat_minor": 2
}

{
 "cells": [
  {
   "cell_type": "code",
   "execution_count": 4,
   "metadata": {
    "executionInfo": {
     "elapsed": 6,
     "status": "ok",
     "timestamp": 1715324582454,
     "user": {
      "displayName": "Chandrashekar Lakshminarayanan",
      "userId": "04712317347161656060"
     },
     "user_tz": -330
    },
    "id": "RjPY68QJQ-nH"
   },
   "outputs": [],
   "source": [
    "import numpy as np\n",
    "import time"
   ]
  },
  {
   "cell_type": "code",
   "execution_count": 11,
   "metadata": {
    "executionInfo": {
     "elapsed": 2,
     "status": "ok",
     "timestamp": 1715324582847,
     "user": {
      "displayName": "Chandrashekar Lakshminarayanan",
      "userId": "04712317347161656060"
     },
     "user_tz": -330
    },
    "id": "u3mNBpDOCSWd"
   },
   "outputs": [],
   "source": [
    "class Agent:\n",
    "    def __init__(self, num_balls, num_matches):\n",
    "        self.total_wickets = 4\n",
    "        self.num_balls = num_balls\n",
    "        self.num_matches = num_matches\n",
    "        self.Q_values = np.ndarray((self.num_balls, self.total_wickets, 6), dtype=np.float32)\n",
    "        self.Q_values.fill(0)\n",
    "\n",
    "        self.epsilon = 0.1 #exploration - exploitation parameter, probability of selecting a random action instead of the one predicted by the policy\n",
    "        self.balls = 0\n",
    "        self.wickets = 0\n",
    "\n",
    "        self.lrate = 0.1 #the learning rate - alpha\n",
    "        self.disc_factor = 0.9 #the discount factor - gamma\n",
    "\n",
    "        self.last_action = None\n",
    "        self.next_action = None\n",
    "      \n",
    "    def policy(self):\n",
    "        p = np.random.rand()\n",
    "        if p < self.epsilon:\n",
    "            return np.random.randint(0, 6)\n",
    "        else:\n",
    "            return np.argmax(self.Q_values[self.balls][self.wickets])\n",
    "        \n",
    "    def get_action(self, wicket, runs_scored):\n",
    "        if self.balls == 0:\n",
    "            self.last_action = self.policy()\n",
    "            self.balls += 1\n",
    "            return self.last_action\n",
    "\n",
    "        self.wickets += wicket\n",
    "        self.balls += 1\n",
    "\n",
    "        if self.balls == self.num_balls or self.wickets == self.total_wickets:\n",
    "            self.balls = 0\n",
    "            self.wickets = 0\n",
    "            self.last_action = None\n",
    "            self.next_action = None\n",
    "\n",
    "            self.last_action = self.policy()\n",
    "            self.balls += 1\n",
    "            return self.last_action\n",
    "\n",
    "        new_q_value = 0\n",
    "\n",
    "        self.next_action = self.policy()\n",
    "        new_q_value = (\n",
    "            runs_scored\n",
    "            - 0.5\n",
    "            + self.disc_factor * self.Q_values[self.balls][self.wickets][self.next_action]\n",
    "            - self.Q_values[self.balls - 1][self.wickets - wicket][self.last_action]\n",
    "        )\n",
    "\n",
    "        self.Q_values[self.balls - 1][self.wickets - wicket][self.last_action] += (\n",
    "            self.lrate * new_q_value\n",
    "        )\n",
    "\n",
    "        self.last_action = self.next_action\n",
    "        return self.last_action"
   ]
  },
  {
   "cell_type": "code",
   "execution_count": 12,
   "metadata": {
    "executionInfo": {
     "elapsed": 5,
     "status": "ok",
     "timestamp": 1715324583492,
     "user": {
      "displayName": "Chandrashekar Lakshminarayanan",
      "userId": "04712317347161656060"
     },
     "user_tz": -330
    },
    "id": "HzfBOAnrCycf"
   },
   "outputs": [],
   "source": [
    "wickets = 4\n",
    "\n",
    "\n",
    "class Environment:\n",
    "    def __init__(self, num_balls, agent):\n",
    "        self.num_balls = num_balls\n",
    "        self.agent = agent\n",
    "        self.__run_time = 0\n",
    "        self.__total_runs = 0\n",
    "        self.__total_wickets = 0\n",
    "        self.__runs_scored = 0\n",
    "        self.__start_time = 0\n",
    "        self.__end_time = 0\n",
    "        self.__p_out = np.array([0.001, 0.01, 0.02, 0.03, 0.1, 0.3])\n",
    "        self.__p_run = np.array([1, 0.9, 0.85, 0.8, 0.75, 0.7])\n",
    "        self.__action_runs_map = np.array([0, 1, 2, 3, 4, 6])\n",
    "        self.__wickets_left = wickets\n",
    "        self.__wicket = 0\n",
    "        self.__runs_scored = 0\n",
    "        self.__start_time = 0\n",
    "        self.__end_time = 0\n",
    "        self.__batting_order = np.array([0, 1, 2, 3])\n",
    "\n",
    "    def __get_action(self):\n",
    "        self.__start_time = time.time()\n",
    "        action = self.agent.get_action(self.__wicket, self.__runs_scored)\n",
    "        self.__end_time = time.time()\n",
    "        self.__run_time = self.__run_time + self.__end_time - self.__start_time\n",
    "        return action\n",
    "\n",
    "    def __get_outcome(self, action):\n",
    "        pout = self.__p_out[action]\n",
    "        prun = self.__p_run[action]\n",
    "        wicket = np.random.choice(2, 1, p=[1 - pout, pout])[0]\n",
    "        runs = 0\n",
    "        if wicket == 0:\n",
    "            runs = (\n",
    "                self.__action_runs_map[action]\n",
    "                * np.random.choice(2, 1, p=[1 - prun, prun])[0]\n",
    "            )\n",
    "        return wicket, runs\n",
    "\n",
    "    def innings(self):\n",
    "        self.__wickets_left = wickets\n",
    "        self.__runs_scored = 0\n",
    "        self.__total_runs = 0\n",
    "        self.__total_wickets = 0\n",
    "        self.__run_time = 0\n",
    "        self.__start_time = 0\n",
    "        self.__end_time = 0\n",
    "\n",
    "        for ball in range(self.num_balls):\n",
    "            if self.__wickets_left > 0:\n",
    "                action = self.__get_action()\n",
    "                self.__wicket, self.__runs_scored = self.__get_outcome(action)\n",
    "                self.__total_runs = self.__total_runs + self.__runs_scored\n",
    "                if self.__wicket > 0:\n",
    "                    self.__wickets_left = self.__wickets_left - 1\n",
    "                self.__total_wickets = self.__total_wickets + self.__wicket\n",
    "                if self.__wickets_left == 0:\n",
    "                    self.__get_action()\n",
    "        return self.__total_runs, self.__total_wickets, self.__run_time"
   ]
  },
  {
   "cell_type": "code",
   "execution_count": 13,
   "metadata": {
    "executionInfo": {
     "elapsed": 4,
     "status": "ok",
     "timestamp": 1715324583492,
     "user": {
      "displayName": "Chandrashekar Lakshminarayanan",
      "userId": "04712317347161656060"
     },
     "user_tz": -330
    },
    "id": "9_o_gI21Hlme"
   },
   "outputs": [
    {
     "name": "stdout",
     "output_type": "stream",
     "text": [
      "Match:  100 Average:  77.31\n",
      "Match:  200 Average:  83.12\n",
      "Match:  300 Average:  80.87\n",
      "Match:  400 Average:  82.97\n",
      "Match:  500 Average:  81.47\n",
      "Match:  600 Average:  84.78\n",
      "Match:  700 Average:  83.77\n",
      "Match:  800 Average:  87.17\n",
      "Match:  900 Average:  82.68\n",
      "Match:  1000 Average:  84.3\n"
     ]
    }
   ],
   "source": [
    "num_matches = 1000\n",
    "num_balls = 60\n",
    "agent = Agent(num_balls, num_matches)\n",
    "environment = Environment(num_balls, agent)\n",
    "score = np.zeros((num_matches, 1))\n",
    "run_time = np.zeros((num_matches, 1))\n",
    "wicket = np.zeros((num_matches, 1))\n",
    "\n",
    "last_100_avgs = []\n",
    "for i in range(num_matches):\n",
    "    score[i], wicket[i], run_time[i] = environment.innings()\n",
    "    last_100_avgs.append(score[i])\n",
    "    if (i + 1) % 100 == 0:\n",
    "        print(\"Match: \", i + 1, \"Average: \", np.mean(last_100_avgs))\n",
    "        last_100_avgs = []"
   ]
  },
  {
   "cell_type": "code",
   "execution_count": null,
   "metadata": {},
   "outputs": [],
   "source": []
  }
 ],
 "metadata": {
  "colab": {
   "provenance": [
    {
     "file_id": "1hu1m_Y3W9xFfqsRrHxG-OcCNf-35um3l",
     "timestamp": 1675097854596
    },
    {
     "file_id": "1HIMCuZkEP3LcRA2MrMaTwUYtCBiWtSN2",
     "timestamp": 1675057016953
    },
    {
     "file_id": "1lIztIIvkC0KmTMsraU1XndBUMp-2-DeJ",
     "timestamp": 1675001897191
    },
    {
     "file_id": "1Rwn8BG5pmIxleavMhTFmq_obmiaC1KPe",
     "timestamp": 1674998834203
    },
    {
     "file_id": "1DPsrQogx56ylkgjIyMYa1kko7fx7Oz5g",
     "timestamp": 1673177374420
    }
   ]
  },
  "kernelspec": {
   "display_name": "Python 3 (ipykernel)",
   "language": "python",
   "name": "python3"
  },
  "language_info": {
   "codemirror_mode": {
    "name": "ipython",
    "version": 3
   },
   "file_extension": ".py",
   "mimetype": "text/x-python",
   "name": "python",
   "nbconvert_exporter": "python",
   "pygments_lexer": "ipython3",
   "version": "3.10.9"
  }
 },
 "nbformat": 4,
 "nbformat_minor": 4
}

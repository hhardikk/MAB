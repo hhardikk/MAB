{
 "cells": [
  {
   "cell_type": "code",
   "execution_count": 1,
   "metadata": {},
   "outputs": [],
   "source": [
    "import numpy as np\n",
    "import time\n",
    "import math"
   ]
  },
  {
   "cell_type": "code",
   "execution_count": 5,
   "metadata": {},
   "outputs": [],
   "source": [
    "class Agent:\n",
    "    def __init__(self):\n",
    "        self.i = 0\n",
    "        self.last_action= 0\n",
    "\n",
    "        self.t = np.zeros(6, dtype=np.float32)\n",
    "        self.reward = np.zeros(6, dtype=np.float32)\n",
    "        self.ucb_arms = np.zeros(6, dtype=np.float32)\n",
    "        \n",
    "        self.runs = np.array([0, 1, 2, 3, 4, 6])\n",
    "\n",
    "\n",
    "    def ucb(self):\n",
    "        for action in range(6):\n",
    "            mean = self.reward[action] / self.t[action]\n",
    "            term = (\n",
    "                2\n",
    "                * math.log(1 + self.i * (math.log(self.i) ** 2))\n",
    "                / self.t[action]\n",
    "            )\n",
    "            self.ucb_arms[action] = mean + math.sqrt(term)\n",
    "\n",
    "    def get_action(self, wicket, runs_scored):\n",
    "        \n",
    "        if self.i == 0:\n",
    "            action = 0\n",
    "        else:\n",
    "\n",
    "            self.t[self.last_action] += 1\n",
    "            self.reward[self.last_action] += runs_scored\n",
    "\n",
    "            if self.i < 6:\n",
    "                action = self.i\n",
    "            else:\n",
    "                self.ucb()\n",
    "                action = np.argmax(self.ucb_arms)\n",
    "\n",
    "        self.last_action = action\n",
    "        self.i += 1\n",
    "        return action\n",
    "    \n",
    "\n",
    "    \n"
   ]
  },
  {
   "cell_type": "code",
   "execution_count": 31,
   "metadata": {},
   "outputs": [],
   "source": [
    "class Environment:\n",
    "    def __init__(self, num_balls, agent):\n",
    "        self.num_balls = num_balls\n",
    "        self.agent = agent\n",
    "        self.__run_time = 0\n",
    "        self.__total_runs = 0\n",
    "        self.__total_wickets = 0\n",
    "        self.__runs_scored = 0\n",
    "        self.__start_time = 0\n",
    "        self.__end_time = 0\n",
    "        self.__regret_w = 0\n",
    "        self.__regret_s = 0\n",
    "        self.__wicket = 0\n",
    "        self.__regret_rho = 0\n",
    "        self.__p_out = np.array([0.001, 0.01, 0.02, 0.03, 0.1, 0.3])\n",
    "        self.__p_run = np.array([1, 0.9, 0.85, 0.8, 0.75, 0.7])\n",
    "        self.__action_runs_map = np.array([0, 1, 2, 3, 4, 6])\n",
    "        self.__s = (1 - self.__p_out) * self.__p_run * self.__action_runs_map\n",
    "        self.__rho = self.__s / self.__p_out\n",
    "\n",
    "    def __get_action(self):\n",
    "        self.__start_time = time.time()\n",
    "        action = self.agent.get_action(self.__wicket, self.__runs_scored)\n",
    "        self.__end_time = time.time()\n",
    "        self.__run_time = self.__run_time + self.__end_time - self.__start_time\n",
    "        return action\n",
    "\n",
    "    def __get_outcome(self, action):\n",
    "        pout = self.__p_out[action]\n",
    "        prun = self.__p_run[action]\n",
    "        wicket = np.random.choice(2, 1, p=[1 - pout, pout])[0]\n",
    "        runs = 0\n",
    "        if wicket == 0:\n",
    "            runs = (\n",
    "                self.__action_runs_map[action]\n",
    "                * np.random.choice(2, 1, p=[1 - prun, prun])[0]\n",
    "            )\n",
    "        return wicket, runs\n",
    "\n",
    "    def innings(self):\n",
    "        self.__total_runs = 0\n",
    "        self.__total_wickets = 0\n",
    "        self.__runs_scored = 0\n",
    "\n",
    "        for ball in range(self.num_balls):\n",
    "            action = self.__get_action()\n",
    "            self.__wicket, self.__runs_scored = self.__get_outcome(action)\n",
    "            self.__total_runs = self.__total_runs + self.__runs_scored\n",
    "            self.__total_wickets = self.__total_wickets + self.__wicket\n",
    "            self.__regret_w = self.__regret_w + (\n",
    "                self.__p_out[action] - np.min(self.__p_out)\n",
    "            )\n",
    "            self.__regret_s = self.__regret_s + (np.max(self.__s) - self.__s[action])\n",
    "            self.__regret_rho = self.__regret_rho + (\n",
    "                np.max(self.__rho) - self.__rho[action]\n",
    "            )\n",
    "        return (\n",
    "            self.__regret_w,\n",
    "            self.__regret_s,\n",
    "            self.__regret_rho,\n",
    "            self.__total_runs,\n",
    "            self.__total_wickets,\n",
    "            self.__run_time,\n",
    "        )"
   ]
  },
  {
   "cell_type": "code",
   "execution_count": 60,
   "metadata": {},
   "outputs": [
    {
     "name": "stdout",
     "output_type": "stream",
     "text": [
      "8.342000000000011 47.858000000000054 5048.700000000002 247 2 0.005942106246948242\n"
     ]
    }
   ],
   "source": [
    "agent = Agent()\n",
    "environment = Environment(1000, agent)\n",
    "regret_w, regret_s, reger_rho, total_runs, total_wickets, run_time = (\n",
    "    environment.innings()\n",
    ")\n",
    "\n",
    "print(regret_w, regret_s, reger_rho, total_runs, total_wickets, run_time)"
   ]
  },
  {
   "cell_type": "code",
   "execution_count": null,
   "metadata": {},
   "outputs": [],
   "source": []
  }
 ],
 "metadata": {
  "kernelspec": {
   "display_name": "Python 3 (ipykernel)",
   "language": "python",
   "name": "python3"
  },
  "language_info": {
   "codemirror_mode": {
    "name": "ipython",
    "version": 3
   },
   "file_extension": ".py",
   "mimetype": "text/x-python",
   "name": "python",
   "nbconvert_exporter": "python",
   "pygments_lexer": "ipython3",
   "version": "3.10.9"
  }
 },
 "nbformat": 4,
 "nbformat_minor": 2
}
